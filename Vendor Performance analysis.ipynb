{
 "cells": [
  {
   "cell_type": "code",
   "execution_count": 2,
   "id": "fc973763-8d8e-41cd-9566-2709dd68f7a4",
   "metadata": {},
   "outputs": [],
   "source": [
    "import pandas as pd\n",
    "import os\n",
    "import logging\n"
   ]
  },
  {
   "cell_type": "code",
   "execution_count": 13,
   "id": "6b8a2e84-afd0-4660-bb20-9682f5ef0657",
   "metadata": {},
   "outputs": [],
   "source": []
  },
  {
   "cell_type": "code",
   "execution_count": 8,
   "id": "27f84b89-0a9f-4e05-92c0-de94cecacec0",
   "metadata": {},
   "outputs": [
    {
     "name": "stderr",
     "output_type": "stream",
     "text": [
      "2025-08-18 18:57:55,694-INFO-Ingesting begin_inventory.csv into db\n",
      "2025-08-18 18:57:59,997-INFO-Ingesting end_inventory.csv into db\n",
      "2025-08-18 18:58:12,405-INFO-Ingesting purchases.csv into db\n",
      "2025-08-18 18:59:22,304-INFO-Ingesting purchase_prices.csv into db\n",
      "2025-08-18 18:59:57,550-INFO-Ingesting sales.csv into db\n",
      "2025-08-18 19:07:51,355-INFO-Ingesting vendor_invoice.csv into db\n",
      "2025-08-18 19:07:51,586-INFO-Ingestion complete\n",
      "2025-08-18 19:07:51,588-INFO-Total Time taken 9.94 minutes\n"
     ]
    }
   ],
   "source": [
    "import os\n",
    "import pandas as pd\n",
    "import logging\n",
    "import time\n",
    "from sqlalchemy import create_engine\n",
    "\n",
    "# Ensure logs folder exists\n",
    "os.makedirs(\"logs\", exist_ok=True)\n",
    "\n",
    "# Configure logging\n",
    "logging.basicConfig(\n",
    "    filename='logs/ingestion_db.log',\n",
    "    level=logging.DEBUG,\n",
    "    format=\"%(asctime)s - %(levelname)s - %(message)s\",\n",
    "    filemode=\"a\"\n",
    ")\n",
    "\n",
    "# Database engine\n",
    "engine = create_engine('sqlite:///inventory.db')\n",
    "\n",
    "def ingest_db(df, table_name, engine):\n",
    "    df.to_sql(table_name, con=engine, if_exists='replace', index=False)\n",
    "\n",
    "def load_raw_data():\n",
    "    start = time.time()\n",
    "    folder = r\"D:\\data\"   # raw string avoids escape issues\n",
    "\n",
    "    for file in os.listdir(folder):\n",
    "        if file.endswith('.csv'):   # safer than 'in'\n",
    "            file_path = os.path.join(folder, file)  # ✅ correct path\n",
    "            df = pd.read_csv(file_path)\n",
    "\n",
    "            logging.info(f\"Ingesting {file} into db\")\n",
    "            ingest_db(df, file[:-4], engine)\n",
    "\n",
    "    end = time.time()\n",
    "    total_time = (end - start) / 60\n",
    "\n",
    "    logging.info(\"Ingestion complete\")\n",
    "    logging.info(f\"Total Time taken {total_time:.2f} minutes\")\n",
    "\n",
    "if __name__ == \"__main__\":\n",
    "    load_raw_data()\n"
   ]
  },
  {
   "cell_type": "code",
   "execution_count": 10,
   "id": "9a1efc10-b709-4fcd-91eb-35b7000a6872",
   "metadata": {},
   "outputs": [],
   "source": []
  },
  {
   "cell_type": "code",
   "execution_count": null,
   "id": "6aa2c3f6-6e3b-4fc3-9b70-525aa384dc26",
   "metadata": {},
   "outputs": [],
   "source": []
  },
  {
   "cell_type": "code",
   "execution_count": null,
   "id": "46edd935-ac2f-434f-84c7-8187d8c0ac9e",
   "metadata": {},
   "outputs": [],
   "source": []
  }
 ],
 "metadata": {
  "kernelspec": {
   "display_name": "Python 3 (ipykernel)",
   "language": "python",
   "name": "python3"
  },
  "language_info": {
   "codemirror_mode": {
    "name": "ipython",
    "version": 3
   },
   "file_extension": ".py",
   "mimetype": "text/x-python",
   "name": "python",
   "nbconvert_exporter": "python",
   "pygments_lexer": "ipython3",
   "version": "3.12.4"
  }
 },
 "nbformat": 4,
 "nbformat_minor": 5
}
